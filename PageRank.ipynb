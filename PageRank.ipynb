{
 "cells": [
  {
   "cell_type": "markdown",
   "metadata": {},
   "source": [
    "## need to first go to the directory ~/Graph\\ representation\\ in\\ Python/src/aEx1"
   ]
  },
  {
   "cell_type": "code",
   "execution_count": 2,
   "metadata": {},
   "outputs": [
    {
     "name": "stdout",
     "output_type": "stream",
     "text": [
      "/Users/zhangjiahong/Desktop/Graph representation in Python/src/aEx1\n"
     ]
    }
   ],
   "source": [
    "cd src/aEx1/"
   ]
  },
  {
   "cell_type": "code",
   "execution_count": 12,
   "metadata": {
    "collapsed": true
   },
   "outputs": [],
   "source": [
    "class Edge:\n",
    "    def __init__(self, url1, url2):\n",
    "        self.v = Vertex(url1)\n",
    "        self.w = Vertex(url2)\n",
    "        \n",
    "    def __repr__(self):\n",
    "        string = '(' + url1 + '[' + str(self.v.index) + ']' + ',' + url2 + '[' + str(self.w.index) + ']'+ ')'\n",
    "        return string\n",
    "        \n",
    "class Vertex:\n",
    "    def __init__(self, url):\n",
    "        index = -1\n",
    "        self.url = url\n",
    "        for i in urlindex:\n",
    "            if url == i[0]:\n",
    "                index = i[1]\n",
    "        self.index = index\n",
    "        \n",
    "    def __repr__(self):\n",
    "        return 'Vertex(' + self.url + '[' + str(self.index) + ']' +')'"
   ]
  },
  {
   "cell_type": "code",
   "execution_count": 13,
   "metadata": {
    "collapsed": true
   },
   "outputs": [],
   "source": [
    "class Graph:\n",
    "    def __init__(self, V):\n",
    "        self.nV = V\n",
    "        self.nE = 0\n",
    "        self.edge = [[0] * V for _ in range(V)]\n",
    "        \n",
    "    def validV(self, vertex):\n",
    "        return (isinstance(vertex, Vertex) and vertex.index >= 0 and vertex.index < self.nV)\n",
    "    \n",
    "    def validE(self, e):\n",
    "        return (isinstance(e, Edge) and self.validV(e.v) and self.validV(e.w))\n",
    "    \n",
    "    def insertE(self, e):\n",
    "        assert(self.validE(e))\n",
    "        if self.edge[e.v.index][e.w.index] == 0:\n",
    "            self.edge[e.v.index][e.w.index] += 1\n",
    "            self.nE += 1\n",
    "    \n",
    "    def print(self, sep = ','):\n",
    "        for i in range(self.nV):\n",
    "            print(sep.join(str(self.edge[i][j]) for j in range(self.nV)))\n",
    "            \n",
    "    def getOutDegree(self, url):\n",
    "        assert(self.validV(Vertex(url)))\n",
    "        count = 0\n",
    "        for i in self.edge[Vertex(url).index]:\n",
    "            if i:\n",
    "                count += 1\n",
    "        return count\n",
    "    \n",
    "    def getInDegree(self, url):\n",
    "        assert(self.validV(Vertex(url)))\n",
    "        count = 0\n",
    "        for i in range(self.nV):\n",
    "            if self.edge[i][Vertex(url).index]:\n",
    "                count += 1\n",
    "        return count\n",
    "    \n",
    "    def is_point_to(self, url1, url2):\n",
    "        assert(self.validV(Vertex(url1)) and self.validV(Vertex(url2)))\n",
    "        if self.edge[Vertex(url1).index][Vertex(url2).index]:\n",
    "            return True\n",
    "        return False\n",
    "    \n",
    "    def get_is_point_to_list(self, url):\n",
    "        assert(self.validV(Vertex(url)))\n",
    "        L = []\n",
    "        for index in range(self.nV):\n",
    "            if self.edge[index][Vertex(url).index]:\n",
    "                L.append(index)\n",
    "        return L"
   ]
  },
  {
   "cell_type": "code",
   "execution_count": 14,
   "metadata": {
    "collapsed": true
   },
   "outputs": [],
   "source": [
    "from decimal import Decimal\n",
    "def PageRank(d, diffPR, maxInterations):\n",
    "    N = g.nV\n",
    "    pr = [[],[[] for _ in range(N)]]\n",
    "    for i in range(N):\n",
    "        pr[0].append(1/N)\n",
    "    iteration = 0\n",
    "    diff = diffPR\n",
    "    outdegree = []\n",
    "    for i in urlindex:\n",
    "        outdegree.append(g.getOutDegree(i[0]))\n",
    "    \n",
    "    while (iteration < maxInterations and diff >= diffPR):\n",
    "        iteration += 1\n",
    "        for index in range(N):\n",
    "            for i in urlindex:\n",
    "                if i[1] == index:\n",
    "                    url = i[0]\n",
    "            L = []\n",
    "            L = g.get_is_point_to_list(url)\n",
    "            all = 0\n",
    "            for item in L:\n",
    "                all += pr[0][item]/outdegree[item]\n",
    "            all = d * all\n",
    "            pr[1][index] = all + ((1-d)/N)\n",
    "\n",
    "        summary = 0\n",
    "        for i in range(N):\n",
    "            summary += abs(pr[1][i] - pr[0][i])\n",
    "            pr[0][i] = pr[1][i]\n",
    "        diff = summary\n",
    "    result = []\n",
    "    for index in range(N):\n",
    "        inside_result = []\n",
    "        for i in urlindex:\n",
    "            if i[1] == index:\n",
    "                url = i[0]\n",
    "        inside_result.append(url)\n",
    "        inside_result.append(str(len(urldict[url]) -1))\n",
    "        inside_result.append(round(pr[0][index],7))\n",
    "        result.append(inside_result)\n",
    "    for i in sorted(result, key = lambda x: x[2], reverse = True):\n",
    "        print(', '.join(str(i[j]) for j in range(3)))"
   ]
  },
  {
   "cell_type": "markdown",
   "metadata": {},
   "source": [
    "## show the text file content inside."
   ]
  },
  {
   "cell_type": "code",
   "execution_count": 15,
   "metadata": {},
   "outputs": [],
   "source": [
    "from collections import defaultdict\n",
    "urllib = []\n",
    "with open('collection.txt', 'r') as f:\n",
    "    for line in f.readlines():\n",
    "        if line == '\\n':\n",
    "            continue\n",
    "        else:\n",
    "            for each_url in line.split(' '):\n",
    "                if each_url.startswith('url'):\n",
    "                    urllib.append(each_url.replace('\\n', ''))\n",
    "    f.close()\n",
    "urldict = defaultdict(list)\n",
    "for url in urllib:\n",
    "    flg = 0\n",
    "    words = ''\n",
    "    with open(url + '.txt', 'r') as f:\n",
    "        for line in f.readlines():\n",
    "            if 'url' in line:\n",
    "                line = line.replace('\\n','').split(' ')\n",
    "                for each_url in line:\n",
    "                    if 'url' in each_url:\n",
    "                        urldict[url].append(each_url)\n",
    "            elif '#start Section-2' in line:\n",
    "                flg = 1\n",
    "            elif '#end Section-2' in line:\n",
    "                flg = 0\n",
    "            elif flg:\n",
    "                words += line\n",
    "        urldict[url].append(words)\n",
    "        f.close()\n",
    "        \n",
    "for key in urldict:\n",
    "    print(f'{key}: {urldict[key]}')\n",
    "urlindex = []\n",
    "index = 0\n",
    "for key in urldict:\n",
    "    urlindex.append([key, index])\n",
    "    index += 1\n"
   ]
  },
  {
   "cell_type": "markdown",
   "metadata": {},
   "source": [
    "## parse content and show length"
   ]
  },
  {
   "cell_type": "code",
   "execution_count": 16,
   "metadata": {},
   "outputs": [
    {
     "name": "stdout",
     "output_type": "stream",
     "text": [
      "['mars', 'has', 'long', 'been', 'the', 'subject', 'of', 'human', 'interest', 'early', 'telescopic', 'observations', 'revealed', 'color', 'changes', 'on', 'the', 'surface', 'that', 'were', 'attributed', 'to', 'seasonal', 'vegetation', 'and', 'apparent', 'linear', 'features', 'were', 'ascribed', 'to', 'intelligent', 'design'] length:  33\n",
      "----------------------------------------------------------------------------------------------------\n",
      "{'of', 'attributed', 'has', 'vegetation', 'revealed', 'changes', 'ascribed', 'been', 'long', 'linear', 'the', 'telescopic', 'and', 'seasonal', 'intelligent', 'observations', 'design', 'surface', 'on', 'subject', 'interest', 'color', 'human', 'early', 'that', 'were', 'mars', 'features', 'to', 'apparent'} length:  30\n",
      "****************************************************************************************************\n",
      "['mars', 'revealed', 'color', 'changes', 'surface', 'attributed', 'to', 'seasonal', 'vegetation', 'linear', 'features', 'were', 'ascribed', 'to', 'intelligent', 'design'] length:  16\n",
      "----------------------------------------------------------------------------------------------------\n",
      "{'design', 'attributed', 'features', 'surface', 'vegetation', 'seasonal', 'revealed', 'changes', 'ascribed', 'intelligent', 'to', 'were', 'mars', 'linear', 'color'} length:  15\n",
      "****************************************************************************************************\n",
      "['mars', 'sun', 'pluto', 'moon', 'circle', 'seasonal', 'winds', 'circle', 'mars'] length:  9\n",
      "----------------------------------------------------------------------------------------------------\n",
      "{'pluto', 'circle', 'seasonal', 'winds', 'mars', 'moon', 'sun'} length:  7\n",
      "****************************************************************************************************\n",
      "['sun', 'jupitor', 'sun', 'pluto', 'moon', 'sun', 'small', 'circle', 'high', 'winds', 'circle', 'mars', 'moons', 'waves', 'volcano', 'sun', 'light', 'rays'] length:  18\n",
      "----------------------------------------------------------------------------------------------------\n",
      "{'jupitor', 'sun', 'pluto', 'circle', 'rays', 'moons', 'volcano', 'light', 'winds', 'waves', 'mars', 'moon', 'high', 'small'} length:  14\n",
      "****************************************************************************************************\n",
      "['sun', 'volcano', 'moon', 'weather', 'cycles', 'light', 'rays'] length:  7\n",
      "----------------------------------------------------------------------------------------------------\n",
      "{'rays', 'volcano', 'light', 'cycles', 'moon', 'weather', 'sun'} length:  7\n",
      "****************************************************************************************************\n",
      "['mars', 'moon', 'weather', 'robotics', 'landing', 'red', 'planet', 'volcano', 'moon', 'weather', 'sun', 'mars', 'man', 'promise'] length:  14\n",
      "----------------------------------------------------------------------------------------------------\n",
      "{'landing', 'promise', 'planet', 'sun', 'man', 'robotics', 'volcano', 'red', 'moon', 'weather', 'mars'} length:  11\n",
      "****************************************************************************************************\n",
      "['experiments', 'nasa', 'eu', 'japan', 'robot', 'planet', 'volcano', 'moon', 'weather', 'mars', 'jupiter', 'moon', 'planets'] length:  13\n",
      "----------------------------------------------------------------------------------------------------\n",
      "{'planet', 'eu', 'japan', 'jupiter', 'robot', 'nasa', 'experiments', 'volcano', 'planets', 'moon', 'weather', 'mars'} length:  12\n",
      "****************************************************************************************************\n"
     ]
    }
   ],
   "source": [
    "total = set()\n",
    "for key in urldict:\n",
    "    urldict[key][-1] = urldict[key][-1].replace('\\n', '').replace('.', '').lower()\n",
    "    urldict[key][-1] =  urldict[key][-1].split(' ')\n",
    "    while '' in urldict[key][-1]:\n",
    "        urldict[key][-1].remove('')\n",
    "    print(urldict[key][-1], end = ' ')\n",
    "    print('length: ', len(urldict[key][-1]))\n",
    "    print('-'*100)\n",
    "    a = set()\n",
    "    for item in urldict[key][-1]:\n",
    "        a.add(item.lower())\n",
    "        total.add(item.lower())\n",
    "    print(a, end = ' ')\n",
    "    print('length: ', len(a) )\n",
    "    print('*'*100)\n"
   ]
  },
  {
   "cell_type": "markdown",
   "metadata": {},
   "source": [
    "## show all the strings appear in any url(text)."
   ]
  },
  {
   "cell_type": "code",
   "execution_count": 17,
   "metadata": {},
   "outputs": [
    {
     "name": "stdout",
     "output_type": "stream",
     "text": [
      "and: url11 \n",
      "apparent: url11 \n",
      "ascribed: url11 url21 \n",
      "attributed: url11 url21 \n",
      "been: url11 \n",
      "changes: url11 url21 \n",
      "circle: url22 url23 \n",
      "color: url11 url21 \n",
      "cycles: url31 \n",
      "design: url11 url21 \n",
      "early: url11 \n",
      "eu: url34 \n",
      "experiments: url34 \n",
      "features: url11 url21 \n",
      "has: url11 \n",
      "high: url23 \n",
      "human: url11 \n",
      "intelligent: url11 url21 \n",
      "interest: url11 \n",
      "japan: url34 \n",
      "jupiter: url34 \n",
      "jupitor: url23 \n",
      "landing: url32 \n",
      "light: url23 url31 \n",
      "linear: url11 url21 \n",
      "long: url11 \n",
      "man: url32 \n",
      "mars: url11 url21 url22 url23 url32 url34 \n",
      "moon: url22 url23 url31 url32 url34 \n",
      "moons: url23 \n",
      "nasa: url34 \n",
      "observations: url11 \n",
      "of: url11 \n",
      "on: url11 \n",
      "planet: url32 url34 \n",
      "planets: url34 \n",
      "pluto: url22 url23 \n",
      "promise: url32 \n",
      "rays: url23 url31 \n",
      "red: url32 \n",
      "revealed: url11 url21 \n",
      "robot: url34 \n",
      "robotics: url32 \n",
      "seasonal: url11 url21 url22 \n",
      "small: url23 \n",
      "subject: url11 \n",
      "sun: url22 url23 url31 url32 \n",
      "surface: url11 url21 \n",
      "telescopic: url11 \n",
      "that: url11 \n",
      "the: url11 \n",
      "to: url11 url21 \n",
      "vegetation: url11 url21 \n",
      "volcano: url23 url31 url32 url34 \n",
      "waves: url23 \n",
      "weather: url31 url32 url34 \n",
      "were: url11 url21 \n",
      "winds: url22 url23 \n"
     ]
    }
   ],
   "source": [
    "a = []\n",
    "for item in total:\n",
    "    a.append(item)\n",
    "for word in sorted(a):\n",
    "    print(f'{word}:', end = ' ')\n",
    "    for key in urldict:\n",
    "        if word in urldict[key][-1]:\n",
    "            print(key, end = ' ')\n",
    "    print()"
   ]
  },
  {
   "cell_type": "markdown",
   "metadata": {},
   "source": [
    "## Input and Output"
   ]
  },
  {
   "cell_type": "code",
   "execution_count": 21,
   "metadata": {},
   "outputs": [
    {
     "name": "stdout",
     "output_type": "stream",
     "text": [
      "Please input something: word\n",
      "word: \n"
     ]
    }
   ],
   "source": [
    "request = input('Please input something: ')\n",
    "requests = request.split(' ')\n",
    "for word in requests:\n",
    "    print(f'{word}:', end = ' ')\n",
    "    for key in urldict:\n",
    "        if word in urldict[key][-1]:\n",
    "            print(key, end = ' ')\n",
    "    print()"
   ]
  },
  {
   "cell_type": "markdown",
   "metadata": {},
   "source": [
    "# Making graph"
   ]
  },
  {
   "cell_type": "code",
   "execution_count": 19,
   "metadata": {},
   "outputs": [
    {
     "name": "stdout",
     "output_type": "stream",
     "text": [
      "0,1,1,1,0,0,0\n",
      "0,0,0,0,1,0,0\n",
      "0,1,0,0,1,1,1\n",
      "1,0,0,0,1,1,1\n",
      "0,1,1,0,0,0,1\n",
      "1,1,1,1,1,0,1\n",
      "1,1,1,1,1,1,0\n",
      "\n",
      "OutDegree: url11: 3 url21: 1 url22: 4 url23: 4 url31: 3 url32: 6 url34: 6 \n",
      "InDegree: url11: 3 url21: 5 url22: 4 url23: 3 url31: 5 url32: 3 url34: 4 \n",
      "url11(0)->url21(1) url22(2) url23(3) \n",
      "url21(1)->url31(4) \n",
      "url22(2)->url21(1) url31(4) url32(5) url34(6) \n",
      "url23(3)->url11(0) url31(4) url32(5) url34(6) \n",
      "url31(4)->url21(1) url22(2) url34(6) \n",
      "url32(5)->url11(0) url21(1) url22(2) url23(3) url31(4) url34(6) \n",
      "url34(6)->url11(0) url21(1) url22(2) url23(3) url31(4) url32(5) \n"
     ]
    }
   ],
   "source": [
    "# show the graph.\n",
    "g = Graph(len(urlindex))\n",
    "for key in urldict:\n",
    "    for url in urldict[key][:-1]:\n",
    "        g.insertE(Edge(key, url))\n",
    "g.print()\n",
    "print('\\nOutDegree: ', end = '')\n",
    "for i in urlindex:\n",
    "    print(i[0] + ': ', end = '')\n",
    "    print(g.getOutDegree(i[0]), end = ' ')\n",
    "print('\\nInDegree: ', end = '')\n",
    "for i in urlindex:\n",
    "    print(i[0] + ': ', end = '')\n",
    "    print(g.getInDegree(i[0]), end = ' ')\n",
    "print()\n",
    "for i in urlindex:\n",
    "    print(f'{i[0]}({i[1]})->', end = '')\n",
    "    for j in urlindex:\n",
    "        if g.is_point_to(i[0], j[0]):\n",
    "            print(f'{j[0]}({j[1]})', end = ' ')\n",
    "    print()"
   ]
  },
  {
   "cell_type": "markdown",
   "metadata": {},
   "source": [
    "## show the pagerank."
   ]
  },
  {
   "cell_type": "code",
   "execution_count": 20,
   "metadata": {},
   "outputs": [
    {
     "name": "stdout",
     "output_type": "stream",
     "text": [
      "url31, 3, 0.2623546\n",
      "url21, 1, 0.1843112\n",
      "url34, 6, 0.1576851\n",
      "url22, 4, 0.1520093\n",
      "url32, 6, 0.0925755\n",
      "url23, 4, 0.0776758\n",
      "url11, 3, 0.0733884\n"
     ]
    }
   ],
   "source": [
    "PageRank(0.85,0.00001,1000)"
   ]
  }
 ],
 "metadata": {
  "kernelspec": {
   "display_name": "Python 3",
   "language": "python",
   "name": "python3"
  },
  "language_info": {
   "codemirror_mode": {
    "name": "ipython",
    "version": 3
   },
   "file_extension": ".py",
   "mimetype": "text/x-python",
   "name": "python",
   "nbconvert_exporter": "python",
   "pygments_lexer": "ipython3",
   "version": "3.6.1"
  }
 },
 "nbformat": 4,
 "nbformat_minor": 2
}
