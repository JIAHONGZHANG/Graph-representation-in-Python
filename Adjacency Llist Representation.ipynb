{
 "cells": [
  {
   "cell_type": "code",
   "execution_count": 1,
   "metadata": {
    "collapsed": true
   },
   "outputs": [],
   "source": [
    "class Node:\n",
    "    def __init__(self, value = None):\n",
    "        if value:\n",
    "            self.value = value\n",
    "            self.next = None\n",
    "        else:\n",
    "            self.value = None\n",
    "            self.next = None\n",
    "            \n",
    "class NodeL:\n",
    "    def __init__(self, value = None):\n",
    "        if value:\n",
    "            self.head = Node(value)\n",
    "        else:\n",
    "            self.head = Node()\n",
    "            \n",
    "    def add(self, value):\n",
    "        if not self.head.value:\n",
    "            self.head.value = value\n",
    "        else:\n",
    "            curr = self.head\n",
    "            while curr.next:\n",
    "                curr = curr.next\n",
    "            curr.next = Node(value)\n",
    "            \n",
    "    def show(self):\n",
    "        if not self.head.value:\n",
    "            return ''\n",
    "        else:\n",
    "            L = []\n",
    "            curr = self.head\n",
    "            while 1:\n",
    "                L.append(curr.value)\n",
    "                if not curr.next:\n",
    "                    break\n",
    "                curr = curr.next\n",
    "            return (', '.join(str(i) for i in L))\n",
    "        \n",
    "    def findValue(self, value):\n",
    "        curr = self.head\n",
    "        while curr:\n",
    "            if curr.value == value:\n",
    "                return True\n",
    "            else:\n",
    "                curr = curr.next\n",
    "        return False\n",
    "            \n",
    "class newGraph:\n",
    "    def __init__(self, V):\n",
    "        assert(V > 0)\n",
    "        self.nV = V\n",
    "        self.nE = 0\n",
    "        self.L = []\n",
    "        for i in range(V):\n",
    "            self.L.append(NodeL())\n",
    "        \n",
    "    def insertE(self, v, w):\n",
    "        assert(v >= 0 and v < self.nV)\n",
    "        assert(w >= 0 and w < self.nV)\n",
    "        if v > w:\n",
    "            v, w = w, v\n",
    "        self.L[v].add(w)\n",
    "        self.nE += 1\n",
    "        \n",
    "    def findE(self, v):\n",
    "        assert(v >= 0 and v < self.nV)\n",
    "        L = []\n",
    "        for i in range(v):\n",
    "            if self.L[i].findValue(v):\n",
    "                L.append(i)\n",
    "        curr = self.L[v].head\n",
    "        while curr:\n",
    "            if curr.value:\n",
    "                L.append(curr.value)\n",
    "            curr = curr.next\n",
    "        return L\n",
    "                \n",
    "\n",
    "    def show(self):\n",
    "        for i in range(self.nV):\n",
    "            print(str(i) + ': ' + self.L[i].show())"
   ]
  },
  {
   "cell_type": "markdown",
   "metadata": {},
   "source": [
    "### 输入Graph的结点数目和边"
   ]
  },
  {
   "cell_type": "code",
   "execution_count": 2,
   "metadata": {},
   "outputs": [
    {
     "name": "stdout",
     "output_type": "stream",
     "text": [
      "Input the number of vertices: 2\n",
      "Input edge number(like 0 1): 0 1\n",
      "e1: 0/e2: 1\n",
      "Input edge number(like 0 1): s\n",
      "Wrong format!Halt.\n",
      "0: 1\n",
      "1: \n"
     ]
    }
   ],
   "source": [
    "num = input('Input the number of vertices: ')\n",
    "g = newGraph(int(num))\n",
    "while 1:\n",
    "    a = input('Input edge number(like 0 1): ')\n",
    "    try:\n",
    "        e1, e2 = a.split(' ')\n",
    "        print(f'e1: {e1}', end = '/')\n",
    "        print(f'e2: {e2}')\n",
    "        g.insertE(int(e1), int (e2))\n",
    "    except ValueError:\n",
    "        print('Wrong format!Halt.')\n",
    "        break\n",
    "g.show()"
   ]
  },
  {
   "cell_type": "markdown",
   "metadata": {},
   "source": [
    "### DFS 和 BFS 搜索"
   ]
  },
  {
   "cell_type": "code",
   "execution_count": 81,
   "metadata": {
    "collapsed": true
   },
   "outputs": [],
   "source": [
    "def DFS(g, src):\n",
    "    assert(isinstance(g, newGraph))\n",
    "    assert(src >= 0 and src < g.nV)\n",
    "    visited = [-1] * g.nV\n",
    "    i = 0\n",
    "    L = []\n",
    "    Stack = []\n",
    "    Stack.append(src)\n",
    "    while Stack:\n",
    "        takeOut = Stack.pop()\n",
    "        i += 1\n",
    "        visited[takeOut] = i \n",
    "        L.append(takeOut)\n",
    "        if not g.findE(takeOut):\n",
    "            continue\n",
    "        for e in reversed(sorted(g.findE(takeOut))):\n",
    "            if visited[e] == -1:\n",
    "                if e not in Stack:\n",
    "                    Stack.append(e)\n",
    "    print(','.join(str(i) for i in L))\n",
    "\n",
    "def BFS(g, src):\n",
    "    assert(isinstance(g, newGraph))\n",
    "    assert(src >= 0 and src < g.nV)\n",
    "    visited = [-1] * g.nV\n",
    "    i = 0\n",
    "    L = []\n",
    "    Stack = []\n",
    "    Stack.append(src)\n",
    "    while Stack:\n",
    "        takeOut = Stack[0]\n",
    "        Stack = Stack[1: ]\n",
    "        i += 1\n",
    "        visited[takeOut] = i \n",
    "        L.append(takeOut)\n",
    "        if not g.findE(takeOut):\n",
    "            continue\n",
    "        for e in sorted(g.findE(takeOut)):\n",
    "            if visited[e] == -1:\n",
    "                if e not in Stack:\n",
    "                    Stack.append(e)\n",
    "    print(','.join(str(i) for i in L))"
   ]
  },
  {
   "cell_type": "code",
   "execution_count": 82,
   "metadata": {},
   "outputs": [
    {
     "name": "stdout",
     "output_type": "stream",
     "text": [
      "1,0,3,2,6,4,5\n",
      "1,0,5,3,4,2,6\n"
     ]
    }
   ],
   "source": [
    "DFS(g, 1)\n",
    "BFS(g, 1)"
   ]
  },
  {
   "cell_type": "markdown",
   "metadata": {},
   "source": [
    "### 计算部分数"
   ]
  },
  {
   "cell_type": "code",
   "execution_count": 83,
   "metadata": {
    "collapsed": true
   },
   "outputs": [],
   "source": [
    "def getComponents(g):\n",
    "    ComponentsOf = [-1] * g.nV\n",
    "    id = 1\n",
    "    for i in range(g.nV):\n",
    "        if ComponentsOf[i] == -1:\n",
    "            _getComponents(g, i, id, ComponentsOf)\n",
    "            id += 1\n",
    "    print(f'Number of components: {id - 1}')\n",
    "    for i in range(1, id):\n",
    "        print(f'Component {i}:')\n",
    "        for j in range(g.nV):\n",
    "            if ComponentsOf[j] == i:\n",
    "                print(j)\n",
    "        \n",
    "def _getComponents(g, src, id, ComponentsOf):\n",
    "    ComponentsOf[src] = id\n",
    "    for e in g.findE(src):\n",
    "        if ComponentsOf[e] == -1:\n",
    "            _getComponents(g, e, id, ComponentsOf)"
   ]
  },
  {
   "cell_type": "code",
   "execution_count": 3,
   "metadata": {},
   "outputs": [],
   "source": [
    "getComponents(g)"
   ]
  },
  {
   "cell_type": "markdown",
   "metadata": {},
   "source": [
    "### 汉密尔顿"
   ]
  },
  {
   "cell_type": "code",
   "execution_count": 59,
   "metadata": {
    "collapsed": true
   },
   "outputs": [],
   "source": [
    "def hasHamiltonianPath(g, src, dest):\n",
    "    num = g.nV\n",
    "    visited = [-1] * num\n",
    "    L = [] \n",
    "    return _hasHamiltonianPath(g, src, dest, num - 1, visited, L)\n",
    "\n",
    "def _hasHamiltonianPath(g, src, dest, num, visited, L):\n",
    "    if src == dest:\n",
    "        if num == 0:\n",
    "            L.append(src)\n",
    "            return L\n",
    "        else:\n",
    "            return False\n",
    "    else:\n",
    "        visited[src] = 1\n",
    "        L.append(src)\n",
    "        for e in g.findE(src):\n",
    "            if visited[e] == -1:\n",
    "                if _hasHamiltonianPath(g, e, dest, num - 1, visited, L):\n",
    "                    return L\n",
    "    visited[src] = -1\n",
    "    L.pop()\n",
    "    return False"
   ]
  },
  {
   "cell_type": "code",
   "execution_count": 85,
   "metadata": {},
   "outputs": [
    {
     "data": {
      "text/plain": [
       "False"
      ]
     },
     "execution_count": 85,
     "metadata": {},
     "output_type": "execute_result"
    }
   ],
   "source": [
    "hasHamiltonianPath(g, 0, 5)"
   ]
  },
  {
   "cell_type": "markdown",
   "metadata": {},
   "source": [
    "### 欧拉"
   ]
  },
  {
   "cell_type": "code",
   "execution_count": 90,
   "metadata": {
    "collapsed": true
   },
   "outputs": [],
   "source": [
    "def hasEulerPath(g):\n",
    "    L = []\n",
    "    for i in range(g.nV):\n",
    "        L.append(len(g.findE(i))%2)\n",
    "    if L.count(0) == g.nV:\n",
    "        print('has Euler circuit.')\n",
    "    elif L.count(1) == 2:\n",
    "        print('has Euler path.')\n",
    "    else:\n",
    "        print('dont have Euler path')"
   ]
  }
 ],
 "metadata": {
  "kernelspec": {
   "display_name": "Python 3",
   "language": "python",
   "name": "python3"
  },
  "language_info": {
   "codemirror_mode": {
    "name": "ipython",
    "version": 3
   },
   "file_extension": ".py",
   "mimetype": "text/x-python",
   "name": "python",
   "nbconvert_exporter": "python",
   "pygments_lexer": "ipython3",
   "version": "3.6.1"
  }
 },
 "nbformat": 4,
 "nbformat_minor": 2
}
